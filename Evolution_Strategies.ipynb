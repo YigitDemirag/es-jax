{
  "nbformat": 4,
  "nbformat_minor": 0,
  "metadata": {
    "accelerator": "GPU",
    "colab": {
      "name": "Evolution Strategies.ipynb",
      "provenance": [],
      "collapsed_sections": []
    },
    "kernelspec": {
      "display_name": "Python 3",
      "name": "python3"
    },
    "language_info": {
      "name": "python"
    }
  },
  "cells": [
    {
      "cell_type": "code",
      "metadata": {
        "id": "NXQYG_C6ereG"
      },
      "source": [
        "!pip install einops\n",
        "import jax\n",
        "from jax import vmap, jit\n",
        "from jax.lax import scan\n",
        "from jax.experimental import optimizers\n",
        "import jax.random as random\n",
        "import jax.numpy as np\n",
        "from einops import repeat"
      ],
      "execution_count": null,
      "outputs": []
    },
    {
      "cell_type": "code",
      "metadata": {
        "id": "6jTrjE68es7E"
      },
      "source": [
        "def f_opt(w):\n",
        "    \"\"\"A toy function to minimize\n",
        "    \"\"\"\n",
        "    solution = np.array([23, 0.2, -19.91])\n",
        "    return -np.sum((w - solution)**2)"
      ],
      "execution_count": 2,
      "outputs": []
    },
    {
      "cell_type": "code",
      "metadata": {
        "id": "7_EG6JMAffJx"
      },
      "source": [
        "def es(key, min_fn, num_params, num_workers=128, num_gens=1000, sigma=0.1, learning_rate=1e-1):\n",
        "    \"\"\" Runs Evolution Strategies to optimize min_fn\n",
        "        PDF: https://arxiv.org/abs/1703.03864\n",
        "\n",
        "        Args:\n",
        "            key             : PRNG key for deterministic calculation\n",
        "            min_fn          : Function handler to be minimized\n",
        "            num_params      : Number of parameters to pass into min_fn\n",
        "            num_workers     : Number of workers (population size) \n",
        "            num_gens        : Number of generations to evaluate\n",
        "            sigma           : Parameter jitter amount \n",
        "            learning_rate   : Adam optimizer step size\n",
        "        \n",
        "        Returns:\n",
        "            An array of evolved parameters after number of generations\n",
        "    \"\"\"\n",
        "    batched_func = jit(vmap(min_fn))\n",
        "    opt_init, opt_update, get_params = optimizers.adam(step_size=learning_rate)\n",
        "    theta = random.normal(key, (num_params,)) \n",
        "    opt_state = opt_init(theta)\n",
        "\n",
        "    @jit\n",
        "    def es_step(carry, xs):\n",
        "        '''Antithetic ES with Adam Optimizer\n",
        "        '''\n",
        "        key, key_eps = random.split(carry[0])\n",
        "        eps = random.normal(key_eps, (num_workers, num_params))\n",
        "\n",
        "        theta_eps = np.concatenate([repeat(carry[1], 't -> p t', p=num_workers) + sigma * eps,\n",
        "                                    repeat(carry[1], 't -> p t', p=num_workers) - sigma * eps])\n",
        "        \n",
        "        evals = batched_func(theta_eps)\n",
        "        evals = (evals - np.mean(evals)) / np.std(evals)\n",
        "        \n",
        "        pop_grad = - 1 /(2*num_workers*sigma) * np.dot(np.concatenate([eps, -eps]).T, evals)\n",
        "        opt_state = opt_update(0, pop_grad, carry[2])\n",
        "\n",
        "        return [key_eps, get_params(opt_state), opt_state], get_params(opt_state)\n",
        "\n",
        "    # Evolve for some number of generations\n",
        "    carry, _ = scan(es_step, [key , theta, opt_state], (), length=num_gens)\n",
        "    return carry[1]"
      ],
      "execution_count": 3,
      "outputs": []
    },
    {
      "cell_type": "code",
      "metadata": {
        "colab": {
          "base_uri": "https://localhost:8080/"
        },
        "id": "pPefxWVsisgB",
        "outputId": "5acb43d0-cd49-4c48-afe4-059d4fc95159"
      },
      "source": [
        "key = random.PRNGKey(42)\n",
        "theta = es(key, f_opt, num_params=3, num_workers=5096, num_gens=250, sigma=0.5, learning_rate=1e-1)\n",
        "print(f'Final parameters: {theta}\\nFinal Loss: {f_opt(theta):.3f}')"
      ],
      "execution_count": 4,
      "outputs": [
        {
          "output_type": "stream",
          "name": "stdout",
          "text": [
            "Final parameters: [ 23.011965     0.19921508 -19.910608  ]\n",
            "Final Loss: -0.000\n"
          ]
        }
      ]
    },
    {
      "cell_type": "code",
      "metadata": {
        "id": "CV-qnoNC69u3"
      },
      "source": [
        ""
      ],
      "execution_count": null,
      "outputs": []
    }
  ]
}